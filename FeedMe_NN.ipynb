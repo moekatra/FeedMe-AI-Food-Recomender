{
  "cells": [
    {
      "cell_type": "code",
      "execution_count": null,
      "id": "b7fc6edd",
      "metadata": {
        "id": "b7fc6edd"
      },
      "outputs": [],
      "source": [
        "import pandas as pd\n",
        "import numpy as np"
      ]
    },
    {
      "cell_type": "code",
      "source": [
        "from google.colab import drive \n",
        "drive.mount(\"/content/drive\")"
      ],
      "metadata": {
        "colab": {
          "base_uri": "https://localhost:8080/"
        },
        "id": "22vmXqgYk_5P",
        "outputId": "1a12e968-1f21-4743-d9e8-3fafdc898e86"
      },
      "id": "22vmXqgYk_5P",
      "execution_count": null,
      "outputs": [
        {
          "output_type": "stream",
          "name": "stdout",
          "text": [
            "Mounted at /content/drive\n"
          ]
        }
      ]
    },
    {
      "cell_type": "code",
      "source": [
        "df = pd.read_csv('/content/drive/My Drive/preprocessed_data.csv')"
      ],
      "metadata": {
        "id": "8b6ipiuflDlQ"
      },
      "id": "8b6ipiuflDlQ",
      "execution_count": null,
      "outputs": []
    },
    {
      "cell_type": "code",
      "execution_count": null,
      "id": "f3e3da65",
      "metadata": {
        "colab": {
          "base_uri": "https://localhost:8080/",
          "height": 866
        },
        "id": "f3e3da65",
        "outputId": "a21e4dc8-d490-40f1-c29f-b205fe6bae6d"
      },
      "outputs": [
        {
          "output_type": "execute_result",
          "data": {
            "text/plain": [
              "                                       name  recipe_id  rating    salt  \\\n",
              "0        ant  kelly s london broil marinade     155959       5  0.0001   \n",
              "1            old ladies on a bus    chicken     250833       5  0.0001   \n",
              "2                     sexy greek   cocktail     423875       5  0.0001   \n",
              "3                     comfort able kamikaze     285606       5  0.0001   \n",
              "4                          gilded  zucchini     457965       5  1.0000   \n",
              "...                                     ...        ...     ...     ...   \n",
              "4623                    zucchini rice pilaf     282349       5  0.0001   \n",
              "4624                 zucchini that s cheesy     316637       5  1.0000   \n",
              "4625   zucchini  mushroom and pasta skillet     435485       5  0.0001   \n",
              "4626                zucchini carrot muffins     287490       5  1.0000   \n",
              "4627  zuke not cuke hamburger hotdog relish     436272       5  1.0000   \n",
              "\n",
              "      butter   sugar   onion   water    eggs  olive oil  ...  \\\n",
              "0     0.0001  0.0001  0.0001  0.0001  0.0001     1.0000  ...   \n",
              "1     0.0001  0.0001  0.0001  0.0001  0.0001     0.0001  ...   \n",
              "2     0.0001  0.0001  0.0001  0.0001  0.0001     0.0001  ...   \n",
              "3     0.0001  0.0001  0.0001  0.0001  0.0001     0.0001  ...   \n",
              "4     0.0001  0.0001  0.0001  0.0001  1.0000     0.0001  ...   \n",
              "...      ...     ...     ...     ...     ...        ...  ...   \n",
              "4623  1.0000  0.0001  0.0001  0.0001  0.0001     0.0001  ...   \n",
              "4624  1.0000  0.0001  1.0000  0.0001  0.0001     0.0001  ...   \n",
              "4625  0.0001  0.0001  1.0000  0.0001  0.0001     0.0001  ...   \n",
              "4626  0.0001  1.0000  0.0001  0.0001  1.0000     0.0001  ...   \n",
              "4627  0.0001  1.0000  0.0001  1.0000  0.0001     0.0001  ...   \n",
              "\n",
              "      whole wheat tortillas  rubbed sage  dill pickle  hot red pepper flakes  \\\n",
              "0                    0.0001       0.0001       0.0001                 0.0001   \n",
              "1                    0.0001       0.0001       0.0001                 0.0001   \n",
              "2                    0.0001       0.0001       0.0001                 0.0001   \n",
              "3                    0.0001       0.0001       0.0001                 0.0001   \n",
              "4                    0.0001       0.0001       0.0001                 0.0001   \n",
              "...                     ...          ...          ...                    ...   \n",
              "4623                 0.0001       0.0001       0.0001                 0.0001   \n",
              "4624                 0.0001       0.0001       0.0001                 0.0001   \n",
              "4625                 0.0001       0.0001       0.0001                 0.0001   \n",
              "4626                 0.0001       0.0001       0.0001                 0.0001   \n",
              "4627                 0.0001       0.0001       0.0001                 0.0001   \n",
              "\n",
              "      orange extract  jasmine rice  chicken legs  clam juice  \\\n",
              "0             0.0001        0.0001        0.0001      0.0001   \n",
              "1             0.0001        0.0001        0.0001      0.0001   \n",
              "2             0.0001        0.0001        0.0001      0.0001   \n",
              "3             0.0001        0.0001        0.0001      0.0001   \n",
              "4             0.0001        0.0001        0.0001      0.0001   \n",
              "...              ...           ...           ...         ...   \n",
              "4623          0.0001        0.0001        0.0001      0.0001   \n",
              "4624          0.0001        0.0001        0.0001      0.0001   \n",
              "4625          0.0001        0.0001        0.0001      0.0001   \n",
              "4626          0.0001        0.0001        0.0001      0.0001   \n",
              "4627          0.0001        0.0001        0.0001      0.0001   \n",
              "\n",
              "      dried red pepper flakes  coarse black pepper  \n",
              "0                      0.0001               0.0001  \n",
              "1                      0.0001               0.0001  \n",
              "2                      0.0001               0.0001  \n",
              "3                      0.0001               0.0001  \n",
              "4                      0.0001               0.0001  \n",
              "...                       ...                  ...  \n",
              "4623                   0.0001               0.0001  \n",
              "4624                   0.0001               0.0001  \n",
              "4625                   0.0001               0.0001  \n",
              "4626                   0.0001               0.0001  \n",
              "4627                   0.0001               0.0001  \n",
              "\n",
              "[4628 rows x 1161 columns]"
            ],
            "text/html": [
              "\n",
              "  <div id=\"df-ec1a8036-b8b5-4774-a9a9-9d5eb45acb7b\">\n",
              "    <div class=\"colab-df-container\">\n",
              "      <div>\n",
              "<style scoped>\n",
              "    .dataframe tbody tr th:only-of-type {\n",
              "        vertical-align: middle;\n",
              "    }\n",
              "\n",
              "    .dataframe tbody tr th {\n",
              "        vertical-align: top;\n",
              "    }\n",
              "\n",
              "    .dataframe thead th {\n",
              "        text-align: right;\n",
              "    }\n",
              "</style>\n",
              "<table border=\"1\" class=\"dataframe\">\n",
              "  <thead>\n",
              "    <tr style=\"text-align: right;\">\n",
              "      <th></th>\n",
              "      <th>name</th>\n",
              "      <th>recipe_id</th>\n",
              "      <th>rating</th>\n",
              "      <th>salt</th>\n",
              "      <th>butter</th>\n",
              "      <th>sugar</th>\n",
              "      <th>onion</th>\n",
              "      <th>water</th>\n",
              "      <th>eggs</th>\n",
              "      <th>olive oil</th>\n",
              "      <th>...</th>\n",
              "      <th>whole wheat tortillas</th>\n",
              "      <th>rubbed sage</th>\n",
              "      <th>dill pickle</th>\n",
              "      <th>hot red pepper flakes</th>\n",
              "      <th>orange extract</th>\n",
              "      <th>jasmine rice</th>\n",
              "      <th>chicken legs</th>\n",
              "      <th>clam juice</th>\n",
              "      <th>dried red pepper flakes</th>\n",
              "      <th>coarse black pepper</th>\n",
              "    </tr>\n",
              "  </thead>\n",
              "  <tbody>\n",
              "    <tr>\n",
              "      <th>0</th>\n",
              "      <td>ant  kelly s london broil marinade</td>\n",
              "      <td>155959</td>\n",
              "      <td>5</td>\n",
              "      <td>0.0001</td>\n",
              "      <td>0.0001</td>\n",
              "      <td>0.0001</td>\n",
              "      <td>0.0001</td>\n",
              "      <td>0.0001</td>\n",
              "      <td>0.0001</td>\n",
              "      <td>1.0000</td>\n",
              "      <td>...</td>\n",
              "      <td>0.0001</td>\n",
              "      <td>0.0001</td>\n",
              "      <td>0.0001</td>\n",
              "      <td>0.0001</td>\n",
              "      <td>0.0001</td>\n",
              "      <td>0.0001</td>\n",
              "      <td>0.0001</td>\n",
              "      <td>0.0001</td>\n",
              "      <td>0.0001</td>\n",
              "      <td>0.0001</td>\n",
              "    </tr>\n",
              "    <tr>\n",
              "      <th>1</th>\n",
              "      <td>old ladies on a bus    chicken</td>\n",
              "      <td>250833</td>\n",
              "      <td>5</td>\n",
              "      <td>0.0001</td>\n",
              "      <td>0.0001</td>\n",
              "      <td>0.0001</td>\n",
              "      <td>0.0001</td>\n",
              "      <td>0.0001</td>\n",
              "      <td>0.0001</td>\n",
              "      <td>0.0001</td>\n",
              "      <td>...</td>\n",
              "      <td>0.0001</td>\n",
              "      <td>0.0001</td>\n",
              "      <td>0.0001</td>\n",
              "      <td>0.0001</td>\n",
              "      <td>0.0001</td>\n",
              "      <td>0.0001</td>\n",
              "      <td>0.0001</td>\n",
              "      <td>0.0001</td>\n",
              "      <td>0.0001</td>\n",
              "      <td>0.0001</td>\n",
              "    </tr>\n",
              "    <tr>\n",
              "      <th>2</th>\n",
              "      <td>sexy greek   cocktail</td>\n",
              "      <td>423875</td>\n",
              "      <td>5</td>\n",
              "      <td>0.0001</td>\n",
              "      <td>0.0001</td>\n",
              "      <td>0.0001</td>\n",
              "      <td>0.0001</td>\n",
              "      <td>0.0001</td>\n",
              "      <td>0.0001</td>\n",
              "      <td>0.0001</td>\n",
              "      <td>...</td>\n",
              "      <td>0.0001</td>\n",
              "      <td>0.0001</td>\n",
              "      <td>0.0001</td>\n",
              "      <td>0.0001</td>\n",
              "      <td>0.0001</td>\n",
              "      <td>0.0001</td>\n",
              "      <td>0.0001</td>\n",
              "      <td>0.0001</td>\n",
              "      <td>0.0001</td>\n",
              "      <td>0.0001</td>\n",
              "    </tr>\n",
              "    <tr>\n",
              "      <th>3</th>\n",
              "      <td>comfort able kamikaze</td>\n",
              "      <td>285606</td>\n",
              "      <td>5</td>\n",
              "      <td>0.0001</td>\n",
              "      <td>0.0001</td>\n",
              "      <td>0.0001</td>\n",
              "      <td>0.0001</td>\n",
              "      <td>0.0001</td>\n",
              "      <td>0.0001</td>\n",
              "      <td>0.0001</td>\n",
              "      <td>...</td>\n",
              "      <td>0.0001</td>\n",
              "      <td>0.0001</td>\n",
              "      <td>0.0001</td>\n",
              "      <td>0.0001</td>\n",
              "      <td>0.0001</td>\n",
              "      <td>0.0001</td>\n",
              "      <td>0.0001</td>\n",
              "      <td>0.0001</td>\n",
              "      <td>0.0001</td>\n",
              "      <td>0.0001</td>\n",
              "    </tr>\n",
              "    <tr>\n",
              "      <th>4</th>\n",
              "      <td>gilded  zucchini</td>\n",
              "      <td>457965</td>\n",
              "      <td>5</td>\n",
              "      <td>1.0000</td>\n",
              "      <td>0.0001</td>\n",
              "      <td>0.0001</td>\n",
              "      <td>0.0001</td>\n",
              "      <td>0.0001</td>\n",
              "      <td>1.0000</td>\n",
              "      <td>0.0001</td>\n",
              "      <td>...</td>\n",
              "      <td>0.0001</td>\n",
              "      <td>0.0001</td>\n",
              "      <td>0.0001</td>\n",
              "      <td>0.0001</td>\n",
              "      <td>0.0001</td>\n",
              "      <td>0.0001</td>\n",
              "      <td>0.0001</td>\n",
              "      <td>0.0001</td>\n",
              "      <td>0.0001</td>\n",
              "      <td>0.0001</td>\n",
              "    </tr>\n",
              "    <tr>\n",
              "      <th>...</th>\n",
              "      <td>...</td>\n",
              "      <td>...</td>\n",
              "      <td>...</td>\n",
              "      <td>...</td>\n",
              "      <td>...</td>\n",
              "      <td>...</td>\n",
              "      <td>...</td>\n",
              "      <td>...</td>\n",
              "      <td>...</td>\n",
              "      <td>...</td>\n",
              "      <td>...</td>\n",
              "      <td>...</td>\n",
              "      <td>...</td>\n",
              "      <td>...</td>\n",
              "      <td>...</td>\n",
              "      <td>...</td>\n",
              "      <td>...</td>\n",
              "      <td>...</td>\n",
              "      <td>...</td>\n",
              "      <td>...</td>\n",
              "      <td>...</td>\n",
              "    </tr>\n",
              "    <tr>\n",
              "      <th>4623</th>\n",
              "      <td>zucchini rice pilaf</td>\n",
              "      <td>282349</td>\n",
              "      <td>5</td>\n",
              "      <td>0.0001</td>\n",
              "      <td>1.0000</td>\n",
              "      <td>0.0001</td>\n",
              "      <td>0.0001</td>\n",
              "      <td>0.0001</td>\n",
              "      <td>0.0001</td>\n",
              "      <td>0.0001</td>\n",
              "      <td>...</td>\n",
              "      <td>0.0001</td>\n",
              "      <td>0.0001</td>\n",
              "      <td>0.0001</td>\n",
              "      <td>0.0001</td>\n",
              "      <td>0.0001</td>\n",
              "      <td>0.0001</td>\n",
              "      <td>0.0001</td>\n",
              "      <td>0.0001</td>\n",
              "      <td>0.0001</td>\n",
              "      <td>0.0001</td>\n",
              "    </tr>\n",
              "    <tr>\n",
              "      <th>4624</th>\n",
              "      <td>zucchini that s cheesy</td>\n",
              "      <td>316637</td>\n",
              "      <td>5</td>\n",
              "      <td>1.0000</td>\n",
              "      <td>1.0000</td>\n",
              "      <td>0.0001</td>\n",
              "      <td>1.0000</td>\n",
              "      <td>0.0001</td>\n",
              "      <td>0.0001</td>\n",
              "      <td>0.0001</td>\n",
              "      <td>...</td>\n",
              "      <td>0.0001</td>\n",
              "      <td>0.0001</td>\n",
              "      <td>0.0001</td>\n",
              "      <td>0.0001</td>\n",
              "      <td>0.0001</td>\n",
              "      <td>0.0001</td>\n",
              "      <td>0.0001</td>\n",
              "      <td>0.0001</td>\n",
              "      <td>0.0001</td>\n",
              "      <td>0.0001</td>\n",
              "    </tr>\n",
              "    <tr>\n",
              "      <th>4625</th>\n",
              "      <td>zucchini  mushroom and pasta skillet</td>\n",
              "      <td>435485</td>\n",
              "      <td>5</td>\n",
              "      <td>0.0001</td>\n",
              "      <td>0.0001</td>\n",
              "      <td>0.0001</td>\n",
              "      <td>1.0000</td>\n",
              "      <td>0.0001</td>\n",
              "      <td>0.0001</td>\n",
              "      <td>0.0001</td>\n",
              "      <td>...</td>\n",
              "      <td>0.0001</td>\n",
              "      <td>0.0001</td>\n",
              "      <td>0.0001</td>\n",
              "      <td>0.0001</td>\n",
              "      <td>0.0001</td>\n",
              "      <td>0.0001</td>\n",
              "      <td>0.0001</td>\n",
              "      <td>0.0001</td>\n",
              "      <td>0.0001</td>\n",
              "      <td>0.0001</td>\n",
              "    </tr>\n",
              "    <tr>\n",
              "      <th>4626</th>\n",
              "      <td>zucchini carrot muffins</td>\n",
              "      <td>287490</td>\n",
              "      <td>5</td>\n",
              "      <td>1.0000</td>\n",
              "      <td>0.0001</td>\n",
              "      <td>1.0000</td>\n",
              "      <td>0.0001</td>\n",
              "      <td>0.0001</td>\n",
              "      <td>1.0000</td>\n",
              "      <td>0.0001</td>\n",
              "      <td>...</td>\n",
              "      <td>0.0001</td>\n",
              "      <td>0.0001</td>\n",
              "      <td>0.0001</td>\n",
              "      <td>0.0001</td>\n",
              "      <td>0.0001</td>\n",
              "      <td>0.0001</td>\n",
              "      <td>0.0001</td>\n",
              "      <td>0.0001</td>\n",
              "      <td>0.0001</td>\n",
              "      <td>0.0001</td>\n",
              "    </tr>\n",
              "    <tr>\n",
              "      <th>4627</th>\n",
              "      <td>zuke not cuke hamburger hotdog relish</td>\n",
              "      <td>436272</td>\n",
              "      <td>5</td>\n",
              "      <td>1.0000</td>\n",
              "      <td>0.0001</td>\n",
              "      <td>1.0000</td>\n",
              "      <td>0.0001</td>\n",
              "      <td>1.0000</td>\n",
              "      <td>0.0001</td>\n",
              "      <td>0.0001</td>\n",
              "      <td>...</td>\n",
              "      <td>0.0001</td>\n",
              "      <td>0.0001</td>\n",
              "      <td>0.0001</td>\n",
              "      <td>0.0001</td>\n",
              "      <td>0.0001</td>\n",
              "      <td>0.0001</td>\n",
              "      <td>0.0001</td>\n",
              "      <td>0.0001</td>\n",
              "      <td>0.0001</td>\n",
              "      <td>0.0001</td>\n",
              "    </tr>\n",
              "  </tbody>\n",
              "</table>\n",
              "<p>4628 rows × 1161 columns</p>\n",
              "</div>\n",
              "      <button class=\"colab-df-convert\" onclick=\"convertToInteractive('df-ec1a8036-b8b5-4774-a9a9-9d5eb45acb7b')\"\n",
              "              title=\"Convert this dataframe to an interactive table.\"\n",
              "              style=\"display:none;\">\n",
              "        \n",
              "  <svg xmlns=\"http://www.w3.org/2000/svg\" height=\"24px\"viewBox=\"0 0 24 24\"\n",
              "       width=\"24px\">\n",
              "    <path d=\"M0 0h24v24H0V0z\" fill=\"none\"/>\n",
              "    <path d=\"M18.56 5.44l.94 2.06.94-2.06 2.06-.94-2.06-.94-.94-2.06-.94 2.06-2.06.94zm-11 1L8.5 8.5l.94-2.06 2.06-.94-2.06-.94L8.5 2.5l-.94 2.06-2.06.94zm10 10l.94 2.06.94-2.06 2.06-.94-2.06-.94-.94-2.06-.94 2.06-2.06.94z\"/><path d=\"M17.41 7.96l-1.37-1.37c-.4-.4-.92-.59-1.43-.59-.52 0-1.04.2-1.43.59L10.3 9.45l-7.72 7.72c-.78.78-.78 2.05 0 2.83L4 21.41c.39.39.9.59 1.41.59.51 0 1.02-.2 1.41-.59l7.78-7.78 2.81-2.81c.8-.78.8-2.07 0-2.86zM5.41 20L4 18.59l7.72-7.72 1.47 1.35L5.41 20z\"/>\n",
              "  </svg>\n",
              "      </button>\n",
              "      \n",
              "  <style>\n",
              "    .colab-df-container {\n",
              "      display:flex;\n",
              "      flex-wrap:wrap;\n",
              "      gap: 12px;\n",
              "    }\n",
              "\n",
              "    .colab-df-convert {\n",
              "      background-color: #E8F0FE;\n",
              "      border: none;\n",
              "      border-radius: 50%;\n",
              "      cursor: pointer;\n",
              "      display: none;\n",
              "      fill: #1967D2;\n",
              "      height: 32px;\n",
              "      padding: 0 0 0 0;\n",
              "      width: 32px;\n",
              "    }\n",
              "\n",
              "    .colab-df-convert:hover {\n",
              "      background-color: #E2EBFA;\n",
              "      box-shadow: 0px 1px 2px rgba(60, 64, 67, 0.3), 0px 1px 3px 1px rgba(60, 64, 67, 0.15);\n",
              "      fill: #174EA6;\n",
              "    }\n",
              "\n",
              "    [theme=dark] .colab-df-convert {\n",
              "      background-color: #3B4455;\n",
              "      fill: #D2E3FC;\n",
              "    }\n",
              "\n",
              "    [theme=dark] .colab-df-convert:hover {\n",
              "      background-color: #434B5C;\n",
              "      box-shadow: 0px 1px 3px 1px rgba(0, 0, 0, 0.15);\n",
              "      filter: drop-shadow(0px 1px 2px rgba(0, 0, 0, 0.3));\n",
              "      fill: #FFFFFF;\n",
              "    }\n",
              "  </style>\n",
              "\n",
              "      <script>\n",
              "        const buttonEl =\n",
              "          document.querySelector('#df-ec1a8036-b8b5-4774-a9a9-9d5eb45acb7b button.colab-df-convert');\n",
              "        buttonEl.style.display =\n",
              "          google.colab.kernel.accessAllowed ? 'block' : 'none';\n",
              "\n",
              "        async function convertToInteractive(key) {\n",
              "          const element = document.querySelector('#df-ec1a8036-b8b5-4774-a9a9-9d5eb45acb7b');\n",
              "          const dataTable =\n",
              "            await google.colab.kernel.invokeFunction('convertToInteractive',\n",
              "                                                     [key], {});\n",
              "          if (!dataTable) return;\n",
              "\n",
              "          const docLinkHtml = 'Like what you see? Visit the ' +\n",
              "            '<a target=\"_blank\" href=https://colab.research.google.com/notebooks/data_table.ipynb>data table notebook</a>'\n",
              "            + ' to learn more about interactive tables.';\n",
              "          element.innerHTML = '';\n",
              "          dataTable['output_type'] = 'display_data';\n",
              "          await google.colab.output.renderOutput(dataTable, element);\n",
              "          const docLink = document.createElement('div');\n",
              "          docLink.innerHTML = docLinkHtml;\n",
              "          element.appendChild(docLink);\n",
              "        }\n",
              "      </script>\n",
              "    </div>\n",
              "  </div>\n",
              "  "
            ]
          },
          "metadata": {},
          "execution_count": 5
        }
      ],
      "source": [
        "df.drop(columns=df.columns[0], axis=1, inplace=True)\n",
        "df"
      ]
    },
    {
      "cell_type": "code",
      "execution_count": null,
      "id": "badb9cac",
      "metadata": {
        "id": "badb9cac"
      },
      "outputs": [],
      "source": [
        "from sklearn.model_selection import train_test_split"
      ]
    },
    {
      "cell_type": "code",
      "execution_count": null,
      "id": "b497d69d",
      "metadata": {
        "colab": {
          "base_uri": "https://localhost:8080/"
        },
        "id": "b497d69d",
        "outputId": "3df5f5ed-3e18-4965-dad7-75a46e7bac90"
      },
      "outputs": [
        {
          "output_type": "stream",
          "name": "stdout",
          "text": [
            "(4628, 1158)\n",
            "(4628,)\n"
          ]
        }
      ],
      "source": [
        "import numpy as np\n",
        "X = df.iloc[:,3:1161] #chosing the features\n",
        "y = np.array(df[\"rating\"]) # creating a numpy array from the ratings in the dataframe \n",
        "print(X.shape)      \n",
        "print(y.shape)"
      ]
    },
    {
      "cell_type": "code",
      "execution_count": null,
      "id": "09173ac7",
      "metadata": {
        "colab": {
          "base_uri": "https://localhost:8080/"
        },
        "id": "09173ac7",
        "outputId": "14eb5062-fc05-4c0b-ae59-1b1ea564dc8b"
      },
      "outputs": [
        {
          "output_type": "stream",
          "name": "stdout",
          "text": [
            "(3702, 1158) (3702,)\n",
            "(926, 1158) (926,)\n"
          ]
        }
      ],
      "source": [
        "X_train, X_test, y_train, y_test = train_test_split(X,y,test_size=0.2, random_state = 5)\n",
        "print(X_train.shape, y_train.shape)\n",
        "print(X_test.shape, y_test.shape)"
      ]
    },
    {
      "cell_type": "code",
      "source": [
        "y_train[0]"
      ],
      "metadata": {
        "colab": {
          "base_uri": "https://localhost:8080/"
        },
        "id": "MmoykE2_cPdO",
        "outputId": "7b63d45f-4273-495b-990b-510897ec8388"
      },
      "id": "MmoykE2_cPdO",
      "execution_count": null,
      "outputs": [
        {
          "output_type": "execute_result",
          "data": {
            "text/plain": [
              "5"
            ]
          },
          "metadata": {},
          "execution_count": 9
        }
      ]
    },
    {
      "cell_type": "code",
      "execution_count": null,
      "id": "459f31c2",
      "metadata": {
        "colab": {
          "base_uri": "https://localhost:8080/"
        },
        "id": "459f31c2",
        "outputId": "8aa43f5d-a4f1-4d78-ae89-8ffe1e01eb18"
      },
      "outputs": [
        {
          "output_type": "execute_result",
          "data": {
            "text/plain": [
              "(3702, 6)"
            ]
          },
          "metadata": {},
          "execution_count": 10
        }
      ],
      "source": [
        "from tensorflow.keras.utils import to_categorical\n",
        "\n",
        "y_train = to_categorical(y_train, 6) # hot encoding to have 6 multiclasses, for every rating from 0 to 5.\n",
        "y_test = to_categorical(y_test, 6)\n",
        "\n",
        "y_train.shape"
      ]
    },
    {
      "cell_type": "code",
      "execution_count": null,
      "id": "75f90387",
      "metadata": {
        "colab": {
          "base_uri": "https://localhost:8080/"
        },
        "id": "75f90387",
        "outputId": "7024860d-65b9-40da-b052-c4731230b776"
      },
      "outputs": [
        {
          "output_type": "execute_result",
          "data": {
            "text/plain": [
              "array([0., 0., 0., 0., 0., 1.], dtype=float32)"
            ]
          },
          "metadata": {},
          "execution_count": 11
        }
      ],
      "source": [
        "y_train[0]"
      ]
    },
    {
      "cell_type": "code",
      "execution_count": null,
      "id": "488911db",
      "metadata": {
        "id": "488911db"
      },
      "outputs": [],
      "source": [
        "from keras.models import Sequential\n",
        "from keras.layers import Dense\n",
        "from keras.backend import clear_session\n",
        "import tensorflow as tf\n",
        "\n",
        "tf.random.set_seed(12)\n",
        "\n",
        "clear_session()\n"
      ]
    },
    {
      "cell_type": "code",
      "execution_count": null,
      "id": "05a10a0b",
      "metadata": {
        "scrolled": true,
        "colab": {
          "base_uri": "https://localhost:8080/"
        },
        "id": "05a10a0b",
        "outputId": "3bf0043f-34c6-4ce3-f71e-95ffe72e1e24"
      },
      "outputs": [
        {
          "output_type": "stream",
          "name": "stdout",
          "text": [
            "Model: \"sequential\"\n",
            "_________________________________________________________________\n",
            " Layer (type)                Output Shape              Param #   \n",
            "=================================================================\n",
            " dense (Dense)               (None, 16)                18544     \n",
            "                                                                 \n",
            " dense_1 (Dense)             (None, 64)                1088      \n",
            "                                                                 \n",
            " dense_2 (Dense)             (None, 64)                4160      \n",
            "                                                                 \n",
            " dense_3 (Dense)             (None, 6)                 390       \n",
            "                                                                 \n",
            "=================================================================\n",
            "Total params: 24,182\n",
            "Trainable params: 24,182\n",
            "Non-trainable params: 0\n",
            "_________________________________________________________________\n"
          ]
        }
      ],
      "source": [
        "model = Sequential()\n",
        "model.add(Dense(16, activation='relu', input_shape=(1158,)))\n",
        "model.add(Dense(64, activation='relu'))\n",
        "model.add(Dense(64, activation='relu'))\n",
        "model.add(Dense(6, activation='softmax'))\n",
        "model.summary()"
      ]
    },
    {
      "cell_type": "code",
      "execution_count": null,
      "id": "7b2b233b",
      "metadata": {
        "colab": {
          "base_uri": "https://localhost:8080/"
        },
        "id": "7b2b233b",
        "outputId": "65ec9571-07ee-4eec-fd33-1b79bae376d8"
      },
      "outputs": [
        {
          "output_type": "stream",
          "name": "stdout",
          "text": [
            "Epoch 1/20\n",
            "93/93 [==============================] - 3s 6ms/step - loss: 1.4341 - accuracy: 0.7768 - val_loss: 1.0985 - val_accuracy: 0.8097\n",
            "Epoch 2/20\n",
            "93/93 [==============================] - 0s 3ms/step - loss: 0.9226 - accuracy: 0.8011 - val_loss: 0.7849 - val_accuracy: 0.8097\n",
            "Epoch 3/20\n",
            "93/93 [==============================] - 0s 4ms/step - loss: 0.7546 - accuracy: 0.8011 - val_loss: 0.6999 - val_accuracy: 0.8097\n",
            "Epoch 4/20\n",
            "93/93 [==============================] - 0s 3ms/step - loss: 0.6955 - accuracy: 0.8011 - val_loss: 0.6551 - val_accuracy: 0.8097\n",
            "Epoch 5/20\n",
            "93/93 [==============================] - 0s 4ms/step - loss: 0.6604 - accuracy: 0.8011 - val_loss: 0.6275 - val_accuracy: 0.8097\n",
            "Epoch 6/20\n",
            "93/93 [==============================] - 0s 3ms/step - loss: 0.6392 - accuracy: 0.8011 - val_loss: 0.6115 - val_accuracy: 0.8097\n",
            "Epoch 7/20\n",
            "93/93 [==============================] - 0s 4ms/step - loss: 0.6271 - accuracy: 0.8011 - val_loss: 0.6023 - val_accuracy: 0.8097\n",
            "Epoch 8/20\n",
            "93/93 [==============================] - 0s 4ms/step - loss: 0.6199 - accuracy: 0.8011 - val_loss: 0.5968 - val_accuracy: 0.8097\n",
            "Epoch 9/20\n",
            "93/93 [==============================] - 0s 3ms/step - loss: 0.6152 - accuracy: 0.8011 - val_loss: 0.5934 - val_accuracy: 0.8097\n",
            "Epoch 10/20\n",
            "93/93 [==============================] - 0s 3ms/step - loss: 0.6120 - accuracy: 0.8011 - val_loss: 0.5912 - val_accuracy: 0.8097\n",
            "Epoch 11/20\n",
            "93/93 [==============================] - 0s 4ms/step - loss: 0.6097 - accuracy: 0.8011 - val_loss: 0.5896 - val_accuracy: 0.8097\n",
            "Epoch 12/20\n",
            "93/93 [==============================] - 0s 3ms/step - loss: 0.6078 - accuracy: 0.8011 - val_loss: 0.5886 - val_accuracy: 0.8097\n",
            "Epoch 13/20\n",
            "93/93 [==============================] - 0s 3ms/step - loss: 0.6060 - accuracy: 0.8011 - val_loss: 0.5879 - val_accuracy: 0.8097\n",
            "Epoch 14/20\n",
            "93/93 [==============================] - 0s 3ms/step - loss: 0.6048 - accuracy: 0.8011 - val_loss: 0.5873 - val_accuracy: 0.8097\n",
            "Epoch 15/20\n",
            "93/93 [==============================] - 0s 4ms/step - loss: 0.6036 - accuracy: 0.8011 - val_loss: 0.5867 - val_accuracy: 0.8097\n",
            "Epoch 16/20\n",
            "93/93 [==============================] - 0s 4ms/step - loss: 0.6024 - accuracy: 0.8011 - val_loss: 0.5863 - val_accuracy: 0.8097\n",
            "Epoch 17/20\n",
            "93/93 [==============================] - 0s 4ms/step - loss: 0.6012 - accuracy: 0.8011 - val_loss: 0.5865 - val_accuracy: 0.8097\n",
            "Epoch 18/20\n",
            "93/93 [==============================] - 0s 4ms/step - loss: 0.6004 - accuracy: 0.8011 - val_loss: 0.5861 - val_accuracy: 0.8097\n",
            "Epoch 19/20\n",
            "93/93 [==============================] - 0s 3ms/step - loss: 0.5993 - accuracy: 0.8011 - val_loss: 0.5857 - val_accuracy: 0.8097\n",
            "Epoch 20/20\n",
            "93/93 [==============================] - 0s 4ms/step - loss: 0.5987 - accuracy: 0.8011 - val_loss: 0.5855 - val_accuracy: 0.8097\n"
          ]
        }
      ],
      "source": [
        "model.compile(optimizer='sgd', loss='categorical_crossentropy', metrics=['accuracy'])\n",
        "\n",
        "history = model.fit(X_train, y_train, epochs=20, validation_split=0.2)\n",
        "\n",
        "loss, accuracy = model.evaluate(X_test, y_test, verbose=0)"
      ]
    },
    {
      "cell_type": "code",
      "execution_count": null,
      "id": "16500b0e",
      "metadata": {
        "colab": {
          "base_uri": "https://localhost:8080/",
          "height": 279
        },
        "id": "16500b0e",
        "outputId": "c38842fb-8e55-4cdb-d3c1-c8ae38b1f351"
      },
      "outputs": [
        {
          "output_type": "display_data",
          "data": {
            "text/plain": [
              "<Figure size 432x288 with 1 Axes>"
            ],
            "image/png": "[encoded data removed]"
          },
          "metadata": {
            "needs_background": "light"
          }
        }
      ],
      "source": [
        "import matplotlib.pyplot as plt\n",
        "plt.figure()\n",
        "plt.plot(history.history['loss'])\n",
        "plt.plot(history.history['val_loss'])\n",
        "plt.xlabel('epoch')\n",
        "plt.ylabel('loss')\n",
        "plt.legend(['train', 'val'])\n",
        "plt.show()"
      ]
    },
    {
      "cell_type": "code",
      "execution_count": null,
      "id": "d697555d",
      "metadata": {
        "colab": {
          "base_uri": "https://localhost:8080/",
          "height": 279
        },
        "id": "d697555d",
        "outputId": "11bbf6b7-a99b-4495-f58f-8c11584f5909"
      },
      "outputs": [
        {
          "output_type": "display_data",
          "data": {
            "text/plain": [
              "<Figure size 432x288 with 1 Axes>"
            ],
            "image/png": "[encoded data removed]"
          },
          "metadata": {
            "needs_background": "light"
          }
        }
      ],
      "source": [
        "plt.figure()\n",
        "plt.plot(history.history['accuracy'])\n",
        "plt.plot(history.history['val_accuracy'])\n",
        "plt.xlabel('epoch')\n",
        "plt.ylabel('accuracy')\n",
        "plt.legend(['train', 'val'])\n",
        "plt.show()"
      ]
    },
    {
      "cell_type": "code",
      "execution_count": null,
      "id": "ad18d468",
      "metadata": {
        "colab": {
          "base_uri": "https://localhost:8080/"
        },
        "id": "ad18d468",
        "outputId": "3955ae86-295b-4a50-ece8-e8d2a3346237"
      },
      "outputs": [
        {
          "output_type": "stream",
          "name": "stdout",
          "text": [
            "Epoch 1/15\n",
            "89/93 [===========================>..] - ETA: 0s - loss: 2.0418 - accuracy: 0.7879\n",
            "Epoch 1: val_loss improved from inf to 1.13634, saving model to checkpoint.h5\n",
            "93/93 [==============================] - 2s 8ms/step - loss: 2.0048 - accuracy: 0.7903 - val_loss: 1.1363 - val_accuracy: 0.8097\n",
            "Epoch 2/15\n",
            "86/93 [==========================>...] - ETA: 0s - loss: 0.9821 - accuracy: 0.8009\n",
            "Epoch 2: val_loss improved from 1.13634 to 0.79185, saving model to checkpoint.h5\n",
            "93/93 [==============================] - 0s 5ms/step - loss: 0.9712 - accuracy: 0.8011 - val_loss: 0.7918 - val_accuracy: 0.8097\n",
            "Epoch 3/15\n",
            "84/93 [==========================>...] - ETA: 0s - loss: 0.7838 - accuracy: 0.8017\n",
            "Epoch 3: val_loss improved from 0.79185 to 0.70165, saving model to checkpoint.h5\n",
            "93/93 [==============================] - 0s 5ms/step - loss: 0.7791 - accuracy: 0.8011 - val_loss: 0.7017 - val_accuracy: 0.8097\n",
            "Epoch 4/15\n",
            "85/93 [==========================>...] - ETA: 0s - loss: 0.7171 - accuracy: 0.8044\n",
            "Epoch 4: val_loss improved from 0.70165 to 0.66909, saving model to checkpoint.h5\n",
            "93/93 [==============================] - 0s 5ms/step - loss: 0.7221 - accuracy: 0.8011 - val_loss: 0.6691 - val_accuracy: 0.8097\n",
            "Epoch 5/15\n",
            "85/93 [==========================>...] - ETA: 0s - loss: 0.6889 - accuracy: 0.8029\n",
            "Epoch 5: val_loss improved from 0.66909 to 0.65234, saving model to checkpoint.h5\n",
            "93/93 [==============================] - 0s 5ms/step - loss: 0.6938 - accuracy: 0.8011 - val_loss: 0.6523 - val_accuracy: 0.8097\n",
            "Epoch 6/15\n",
            "86/93 [==========================>...] - ETA: 0s - loss: 0.6764 - accuracy: 0.7991\n",
            "Epoch 6: val_loss improved from 0.65234 to 0.63893, saving model to checkpoint.h5\n",
            "93/93 [==============================] - 0s 5ms/step - loss: 0.6743 - accuracy: 0.8011 - val_loss: 0.6389 - val_accuracy: 0.8097\n",
            "Epoch 7/15\n",
            "84/93 [==========================>...] - ETA: 0s - loss: 0.6737 - accuracy: 0.7999\n",
            "Epoch 7: val_loss improved from 0.63893 to 0.63619, saving model to checkpoint.h5\n",
            "93/93 [==============================] - 0s 5ms/step - loss: 0.6674 - accuracy: 0.8011 - val_loss: 0.6362 - val_accuracy: 0.8097\n",
            "Epoch 8/15\n",
            "84/93 [==========================>...] - ETA: 0s - loss: 0.6575 - accuracy: 0.8032\n",
            "Epoch 8: val_loss improved from 0.63619 to 0.62771, saving model to checkpoint.h5\n",
            "93/93 [==============================] - 0s 5ms/step - loss: 0.6601 - accuracy: 0.8011 - val_loss: 0.6277 - val_accuracy: 0.8097\n",
            "Epoch 9/15\n",
            "88/93 [===========================>..] - ETA: 0s - loss: 0.6556 - accuracy: 0.8004\n",
            "Epoch 9: val_loss improved from 0.62771 to 0.62233, saving model to checkpoint.h5\n",
            "93/93 [==============================] - 0s 4ms/step - loss: 0.6546 - accuracy: 0.8011 - val_loss: 0.6223 - val_accuracy: 0.8097\n",
            "Epoch 10/15\n",
            "82/93 [=========================>....] - ETA: 0s - loss: 0.6698 - accuracy: 0.7931\n",
            "Epoch 10: val_loss did not improve from 0.62233\n",
            "93/93 [==============================] - 0s 5ms/step - loss: 0.6531 - accuracy: 0.8011 - val_loss: 0.6401 - val_accuracy: 0.8097\n",
            "Epoch 11/15\n",
            "90/93 [============================>.] - ETA: 0s - loss: 0.6503 - accuracy: 0.8014\n",
            "Epoch 11: val_loss improved from 0.62233 to 0.61718, saving model to checkpoint.h5\n",
            "93/93 [==============================] - 0s 4ms/step - loss: 0.6497 - accuracy: 0.8011 - val_loss: 0.6172 - val_accuracy: 0.8097\n",
            "Epoch 12/15\n",
            "86/93 [==========================>...] - ETA: 0s - loss: 0.6353 - accuracy: 0.8045\n",
            "Epoch 12: val_loss improved from 0.61718 to 0.61499, saving model to checkpoint.h5\n",
            "93/93 [==============================] - 0s 5ms/step - loss: 0.6451 - accuracy: 0.8011 - val_loss: 0.6150 - val_accuracy: 0.8097\n",
            "Epoch 13/15\n",
            "86/93 [==========================>...] - ETA: 0s - loss: 0.6414 - accuracy: 0.8001\n",
            "Epoch 13: val_loss improved from 0.61499 to 0.61176, saving model to checkpoint.h5\n",
            "93/93 [==============================] - 0s 5ms/step - loss: 0.6414 - accuracy: 0.8011 - val_loss: 0.6118 - val_accuracy: 0.8097\n",
            "Epoch 14/15\n",
            "80/93 [========================>.....] - ETA: 0s - loss: 0.6380 - accuracy: 0.8031\n",
            "Epoch 14: val_loss improved from 0.61176 to 0.61082, saving model to checkpoint.h5\n",
            "93/93 [==============================] - 0s 5ms/step - loss: 0.6397 - accuracy: 0.8011 - val_loss: 0.6108 - val_accuracy: 0.8097\n",
            "Epoch 15/15\n",
            "82/93 [=========================>....] - ETA: 0s - loss: 0.6406 - accuracy: 0.8011\n",
            "Epoch 15: val_loss improved from 0.61082 to 0.60781, saving model to checkpoint.h5\n",
            "93/93 [==============================] - 0s 5ms/step - loss: 0.6395 - accuracy: 0.8011 - val_loss: 0.6078 - val_accuracy: 0.8097\n"
          ]
        }
      ],
      "source": [
        "from tensorflow.keras.layers import Dropout\n",
        "clear_session()\n",
        "\n",
        "model = Sequential()\n",
        "model.add(Dense(32, activation='relu', input_shape=(1158,), kernel_regularizer='l2'))\n",
        "model.add(Dropout(0.5))\n",
        "model.add(Dense(128, activation='relu', kernel_regularizer='l2'))\n",
        "model.add(Dropout(0.5))\n",
        "model.add(Dense(128, activation='relu', kernel_regularizer='l2'))\n",
        "model.add(Dropout(0.5))\n",
        "model.add(Dense(6, activation='softmax', kernel_regularizer='l2'))\n",
        "\n",
        "from tensorflow.keras.callbacks import EarlyStopping, ModelCheckpoint\n",
        "\n",
        "model.compile(optimizer='RMSprop', loss='categorical_crossentropy', metrics=['accuracy'])\n",
        "\n",
        "earlystop = EarlyStopping(monitor='val_loss', patience=2, verbose=True)\n",
        "chkpt = ModelCheckpoint('checkpoint.h5', monitor='val_loss', verbose=True, save_best_only=True, save_weights_only=True)\n",
        "\n",
        "history = model.fit(X_train, y_train, epochs=15, validation_split=0.2, callbacks=[earlystop, chkpt])\n",
        "\n",
        "loss, accuracy = model.evaluate(X_test, y_test, verbose=0)"
      ]
    },
    {
      "cell_type": "code",
      "execution_count": null,
      "id": "4e972dac",
      "metadata": {
        "colab": {
          "base_uri": "https://localhost:8080/",
          "height": 279
        },
        "id": "4e972dac",
        "outputId": "247c6460-8b3b-457e-ae2b-231555324c76"
      },
      "outputs": [
        {
          "output_type": "display_data",
          "data": {
            "text/plain": [
              "<Figure size 432x288 with 1 Axes>"
            ],
            "image/png": "[encoded data removed]"
          },
          "metadata": {
            "needs_background": "light"
          }
        }
      ],
      "source": [
        "plt.figure()\n",
        "plt.plot(history.history['loss'])\n",
        "plt.plot(history.history['val_loss'])\n",
        "plt.xlabel('epoch')\n",
        "plt.ylabel('loss')\n",
        "plt.legend(['train', 'val'])\n",
        "plt.show()"
      ]
    },
    {
      "cell_type": "code",
      "execution_count": null,
      "id": "18cd51f5",
      "metadata": {
        "colab": {
          "base_uri": "https://localhost:8080/",
          "height": 279
        },
        "id": "18cd51f5",
        "outputId": "60a1320a-a663-4c78-d894-bd88b7485d46"
      },
      "outputs": [
        {
          "output_type": "display_data",
          "data": {
            "text/plain": [
              "<Figure size 432x288 with 1 Axes>"
            ],
            "image/png": "[encoded data removed]"
          },
          "metadata": {
            "needs_background": "light"
          }
        }
      ],
      "source": [
        "plt.figure()\n",
        "plt.plot(history.history['accuracy'])\n",
        "plt.plot(history.history['val_accuracy'])\n",
        "plt.xlabel('epoch')\n",
        "plt.ylabel('accuracy')\n",
        "plt.legend(['train', 'val'])\n",
        "plt.show()"
      ]
    }
  ],
  "metadata": {
    "kernelspec": {
      "display_name": "Python 3 (ipykernel)",
      "language": "python",
      "name": "python3"
    },
    "language_info": {
      "codemirror_mode": {
        "name": "ipython",
        "version": 3
      },
      "file_extension": ".py",
      "mimetype": "text/x-python",
      "name": "python",
      "nbconvert_exporter": "python",
      "pygments_lexer": "ipython3",
      "version": "3.9.5"
    },
    "colab": {
      "provenance": []
    },
    "accelerator": "GPU",
    "gpuClass": "standard"
  },
  "nbformat": 4,
  "nbformat_minor": 5
}